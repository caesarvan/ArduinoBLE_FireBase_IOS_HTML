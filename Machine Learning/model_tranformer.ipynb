{
 "cells": [
  {
   "cell_type": "markdown",
   "metadata": {},
   "source": [
    "# import Package"
   ]
  },
  {
   "cell_type": "code",
   "execution_count": 2,
   "metadata": {},
   "outputs": [],
   "source": [
    "import pandas as pd\n",
    "import numpy as np\n",
    "import math\n",
    "import matplotlib.pyplot as plt\n",
    "import scipy.io as sio \n",
    "import joblib\n",
    "import coremltools as ct"
   ]
  },
  {
   "cell_type": "code",
   "execution_count": 3,
   "metadata": {},
   "outputs": [
    {
     "name": "stderr",
     "output_type": "stream",
     "text": [
      "/Users/fangaoyige/opt/anaconda3/envs/ml/lib/python3.7/site-packages/sklearn/ensemble/weight_boosting.py:29: DeprecationWarning: numpy.core.umath_tests is an internal NumPy module and should not be imported. It will be removed in a future NumPy release.\n",
      "  from numpy.core.umath_tests import inner1d\n",
      "/Users/fangaoyige/opt/anaconda3/envs/ml/lib/python3.7/site-packages/sklearn/feature_extraction/text.py:17: DeprecationWarning: Using or importing the ABCs from 'collections' instead of from 'collections.abc' is deprecated since Python 3.3,and in 3.9 it will stop working\n",
      "  from collections import Mapping, defaultdict\n"
     ]
    }
   ],
   "source": [
    "model = joblib.load('model/rf_model.m')\n",
    "# transfor sk learn model to coreml\n",
    "coreml_model = ct.converters.sklearn.convert(model)\n",
    "coreml_model.save('model/rf_model.mlmodel')\n",
    "\n"
   ]
  },
  {
   "cell_type": "code",
   "execution_count": 35,
   "metadata": {},
   "outputs": [
    {
     "name": "stdout",
     "output_type": "stream",
     "text": [
      "(1006, 3201)\n",
      "(252, 3201)\n"
     ]
    }
   ],
   "source": [
    "# read tabel from csv without head\n",
    "\n",
    "t0 = pd.read_csv('raw data/0_nomotion.csv', header=None)\n",
    "t1 = pd.read_csv('raw data/1_sit&stand.csv', header=None)\n",
    "t2 = pd.read_csv('raw data/2_walking.csv', header=None)\n",
    "t3 = pd.read_csv('raw data/3_running.csv', header=None)\n",
    "t4 = pd.read_csv('raw data/4_turnleft.csv', header=None)\n",
    "\n",
    "# add a column to dataframe at the first column\n",
    "t0 = t0.assign(target=0)\n",
    "t1 = t1.assign(target=1)\n",
    "t2 = t2.assign(target=2)\n",
    "t3 = t3.assign(target=3)\n",
    "t4 = t4.assign(target=4)\n",
    "\n",
    "# create trainset and testset\n",
    "\n",
    "# contatenate all dataframe\n",
    "trainSet = pd.concat([t0[:round(0.8*len(t0))], t1[:round(0.8*len(t1))], t2[:round(0.8*len(t2))], t3[:round(0.8*len(t3))], t4[:round(0.8*len(t4))]])\n",
    "# save the data to scv\n",
    "trainSet.to_csv('trainSet.csv', index=False)\n",
    "print(trainSet.shape)\n",
    "\n",
    "# contatenate all dataframe\n",
    "testSet = pd.concat([t0[round(0.8*len(t0)):], t1[round(0.8*len(t1)):], t2[round(0.8*len(t2)):], t3[round(0.8*len(t3)):], t4[round(0.8*len(t4)):]])\n",
    "# save the data to scv\n",
    "testSet.to_csv('testSet.csv', index=False)\n",
    "print(testSet.shape)"
   ]
  },
  {
   "cell_type": "code",
   "execution_count": 33,
   "metadata": {},
   "outputs": [
    {
     "name": "stdout",
     "output_type": "stream",
     "text": [
      "(49, 3201)\n"
     ]
    }
   ],
   "source": [
    "a = t0[round(0.8*len(t0)):-1]\n",
    "print(a.shape)"
   ]
  }
 ],
 "metadata": {
  "interpreter": {
   "hash": "56d414942320be52c950a91196b8ed85190963570db33c89d7fab1108e54004c"
  },
  "kernelspec": {
   "display_name": "Python [conda env:ml]",
   "language": "python",
   "name": "conda-env-ml-py"
  }
 },
 "nbformat": 4,
 "nbformat_minor": 4
}

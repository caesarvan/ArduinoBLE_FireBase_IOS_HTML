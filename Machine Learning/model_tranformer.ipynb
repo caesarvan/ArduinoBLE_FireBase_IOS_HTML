{
 "cells": [
  {
   "cell_type": "markdown",
   "metadata": {},
   "source": [
    "# import Package"
   ]
  },
  {
   "cell_type": "code",
   "execution_count": 2,
   "metadata": {},
   "outputs": [
    {
     "name": "stderr",
     "output_type": "stream",
     "text": [
      "WARNING:root:scikit-learn version 1.0.2 is not supported. Minimum required version: 0.17. Maximum required version: 0.19.2. Disabling scikit-learn conversion API.\n",
      "WARNING:root:XGBoost version 1.5.2 has not been tested with coremltools. You may run into unexpected errors. XGBoost 1.4.2 is the most recent version that has been tested.\n",
      "WARNING:root:TensorFlow version 2.8.0 has not been tested with coremltools. You may run into unexpected errors. TensorFlow 2.6.2 is the most recent version that has been tested.\n",
      "WARNING:root:Keras version 2.8.0 has not been tested with coremltools. You may run into unexpected errors. Keras 2.6.0 is the most recent version that has been tested.\n"
     ]
    }
   ],
   "source": [
    "import pandas as pd\n",
    "import numpy as np\n",
    "import math\n",
    "import matplotlib.pyplot as plt\n",
    "import scipy.io as sio \n",
    "import joblib\n",
    "import coremltools as ct"
   ]
  },
  {
   "cell_type": "code",
   "execution_count": 35,
   "metadata": {},
   "outputs": [
    {
     "name": "stdout",
     "output_type": "stream",
     "text": [
      "(1006, 3201)\n",
      "(252, 3201)\n"
     ]
    }
   ],
   "source": [
    "# read tabel from csv without head\n",
    "\n",
    "t0 = pd.read_csv('raw data/0_nomotion.csv', header=None)\n",
    "t1 = pd.read_csv('raw data/1_sit&stand.csv', header=None)\n",
    "t2 = pd.read_csv('raw data/2_walking.csv', header=None)\n",
    "t3 = pd.read_csv('raw data/3_running.csv', header=None)\n",
    "t4 = pd.read_csv('raw data/4_turnleft.csv', header=None)\n",
    "\n",
    "# add a column to dataframe at the first column\n",
    "t0 = t0.assign(target=0)\n",
    "t1 = t1.assign(target=1)\n",
    "t2 = t2.assign(target=2)\n",
    "t3 = t3.assign(target=3)\n",
    "t4 = t4.assign(target=4)\n",
    "\n",
    "# create trainset and testset\n",
    "\n",
    "# contatenate all dataframe\n",
    "trainSet = pd.concat([t0[:round(0.8*len(t0))], t1[:round(0.8*len(t1))], t2[:round(0.8*len(t2))], t3[:round(0.8*len(t3))], t4[:round(0.8*len(t4))]])\n",
    "# save the data to scv\n",
    "trainSet.to_csv('trainSet.csv', index=False)\n",
    "print(trainSet.shape)\n",
    "\n",
    "# contatenate all dataframe\n",
    "testSet = pd.concat([t0[round(0.8*len(t0)):], t1[round(0.8*len(t1)):], t2[round(0.8*len(t2)):], t3[round(0.8*len(t3)):], t4[round(0.8*len(t4)):]])\n",
    "# save the data to scv\n",
    "testSet.to_csv('testSet.csv', index=False)\n",
    "print(testSet.shape)"
   ]
  },
  {
   "cell_type": "code",
   "execution_count": 33,
   "metadata": {},
   "outputs": [
    {
     "name": "stdout",
     "output_type": "stream",
     "text": [
      "(49, 3201)\n"
     ]
    }
   ],
   "source": [
    "a = t0[round(0.8*len(t0)):-1]\n",
    "print(a.shape)"
   ]
  }
 ],
 "metadata": {
  "interpreter": {
   "hash": "56d414942320be52c950a91196b8ed85190963570db33c89d7fab1108e54004c"
  },
  "kernelspec": {
   "display_name": "Python [conda env:tensorflow]",
   "language": "python",
   "name": "conda-env-tensorflow-py"
  },
  "language_info": {
   "codemirror_mode": {
    "name": "ipython",
    "version": 3
   },
   "file_extension": ".py",
   "mimetype": "text/x-python",
   "name": "python",
   "nbconvert_exporter": "python",
   "pygments_lexer": "ipython3",
   "version": "3.7.11"
  }
 },
 "nbformat": 4,
 "nbformat_minor": 4
}
